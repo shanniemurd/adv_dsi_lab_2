{
 "cells": [
  {
   "cell_type": "markdown",
   "metadata": {
    "id": "_NCwQQFkU3v5"
   },
   "source": [
    "### 2. Load Data"
   ]
  },
  {
   "cell_type": "markdown",
   "metadata": {
    "id": "4JI0kZJxpkoK"
   },
   "source": [
    "**[2.1]** Import the function you created `load_sets` from `src/data/sets`"
   ]
  },
  {
   "cell_type": "code",
   "execution_count": 1,
   "metadata": {
    "id": "1sXpjWA8pz0q"
   },
   "outputs": [],
   "source": [
    "# Solution\n",
    "from src.data.sets import load_sets"
   ]
  },
  {
   "cell_type": "markdown",
   "metadata": {
    "id": "R-Zy6Oq8pkuB"
   },
   "source": [
    "**[2.2]** Load the saved sets from `data/processed`"
   ]
  },
  {
   "cell_type": "code",
   "execution_count": 2,
   "metadata": {
    "id": "Q1iETWjDftMg"
   },
   "outputs": [],
   "source": [
    "#Solution:\n",
    "X_train, y_train, X_val, y_val, X_test, y_test = load_sets(path='../data/processed/')"
   ]
  },
  {
   "cell_type": "markdown",
   "metadata": {
    "id": "K_m-WMllhVqG"
   },
   "source": [
    "# 3. Train Random Forest model"
   ]
  },
  {
   "cell_type": "markdown",
   "metadata": {
    "id": "ImPSPeLcQrS5"
   },
   "source": [
    "**[3.1]** Import the RandomForest module from sklearn"
   ]
  },
  {
   "cell_type": "code",
   "execution_count": 3,
   "metadata": {
    "id": "hh2wmK9wQrcB"
   },
   "outputs": [],
   "source": [
    "# Solution:\n",
    "from sklearn.ensemble import RandomForestRegressor"
   ]
  },
  {
   "cell_type": "markdown",
   "metadata": {
    "id": "m00Ks05tQsJb"
   },
   "source": [
    "**[3.2]** Instantiate the RandomForest class into a variable called rf with random_state=8"
   ]
  },
  {
   "cell_type": "code",
   "execution_count": 4,
   "metadata": {
    "id": "oijeWjaIQsT9"
   },
   "outputs": [],
   "source": [
    "# Solution\n",
    "rf = RandomForestRegressor(random_state=8)"
   ]
  },
  {
   "cell_type": "markdown",
   "metadata": {
    "id": "Ao86WklhRj-F"
   },
   "source": [
    "**[3.3]** Task: Fit the model with the prepared data"
   ]
  },
  {
   "cell_type": "code",
   "execution_count": 5,
   "metadata": {
    "id": "rprce0GGRkKb",
    "outputId": "b10cbb1a-4566-461a-f775-f89b0227e0f7"
   },
   "outputs": [
    {
     "data": {
      "text/plain": [
       "RandomForestRegressor(bootstrap=True, ccp_alpha=0.0, criterion='mse',\n",
       "                      max_depth=None, max_features='auto', max_leaf_nodes=None,\n",
       "                      max_samples=None, min_impurity_decrease=0.0,\n",
       "                      min_impurity_split=None, min_samples_leaf=1,\n",
       "                      min_samples_split=2, min_weight_fraction_leaf=0.0,\n",
       "                      n_estimators=100, n_jobs=None, oob_score=False,\n",
       "                      random_state=8, verbose=0, warm_start=False)"
      ]
     },
     "execution_count": 5,
     "metadata": {},
     "output_type": "execute_result"
    }
   ],
   "source": [
    "# Solution\n",
    "rf.fit(X_train, y_train)"
   ]
  },
  {
   "cell_type": "markdown",
   "metadata": {
    "id": "LZFys_bhRtu-"
   },
   "source": [
    "**[3.4]** Import `dump` from `joblib` and save the fitted model into the folder `models` as a file called `rf_default`"
   ]
  },
  {
   "cell_type": "code",
   "execution_count": 6,
   "metadata": {
    "id": "3Yn_xbLxRt4y",
    "outputId": "fb617008-4ce3-45da-9f24-4be2562e9ee2"
   },
   "outputs": [
    {
     "data": {
      "text/plain": [
       "['../models/rf_default.joblib']"
      ]
     },
     "execution_count": 6,
     "metadata": {},
     "output_type": "execute_result"
    }
   ],
   "source": [
    "# Solution:\n",
    "from joblib import dump \n",
    "\n",
    "dump(rf,  '../models/rf_default.joblib')"
   ]
  },
  {
   "cell_type": "markdown",
   "metadata": {
    "id": "xMvlK3mkfk0Q"
   },
   "source": [
    "**[3.5]** Save the predictions from this model for the training and validation sets into 2 variables called `y_train_preds` and `y_val_preds`\n"
   ]
  },
  {
   "cell_type": "code",
   "execution_count": 7,
   "metadata": {
    "id": "BTkCfP4lfk86"
   },
   "outputs": [],
   "source": [
    "# Solution:\n",
    "y_train_preds = rf.predict(X_train)\n",
    "y_val_preds = rf.predict(X_val)"
   ]
  },
  {
   "cell_type": "markdown",
   "metadata": {
    "id": "Y5npD0dOhhzK"
   },
   "source": [
    "**[3.6]** Import `print_reg_perf` from `src/models/performance` and display the RMSE and MAE scores of this baseline model on the training and validation sets"
   ]
  },
  {
   "cell_type": "code",
   "execution_count": 8,
   "metadata": {
    "id": "lt4gAHbynz07",
    "outputId": "1188cbde-788d-4501-8d1f-48d1a13b19b0"
   },
   "outputs": [
    {
     "name": "stdout",
     "output_type": "stream",
     "text": [
      "RMSE Training: 49.094319563872496\n",
      "MAE Training: 28.843348519362184\n",
      "RMSE Validation: 1047.282041263682\n",
      "MAE Validation: 846.8197260273972\n"
     ]
    }
   ],
   "source": [
    "# Solution\n",
    "from src.models.performance import print_reg_perf\n",
    "\n",
    "print_reg_perf(y_preds=y_train_preds, y_actuals=y_train, set_name='Training')\n",
    "print_reg_perf(y_preds=y_val_preds, y_actuals=y_val, set_name='Validation')"
   ]
  }
 ],
 "metadata": {
  "colab": {
   "collapsed_sections": [],
   "name": "Copy of AdvDSI-Lab2-Exercise2-Solutions.ipynb",
   "provenance": [
    {
     "file_id": "10sbtgDJDOBP_hwkj2h2tIrv1euepFIk7",
     "timestamp": 1645159660291
    }
   ]
  },
  "kernelspec": {
   "display_name": "Python 3",
   "language": "python",
   "name": "python3"
  },
  "language_info": {
   "codemirror_mode": {
    "name": "ipython",
    "version": 3
   },
   "file_extension": ".py",
   "mimetype": "text/x-python",
   "name": "python",
   "nbconvert_exporter": "python",
   "pygments_lexer": "ipython3",
   "version": "3.7.6"
  }
 },
 "nbformat": 4,
 "nbformat_minor": 4
}
